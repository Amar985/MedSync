{
 "cells": [
  {
   "cell_type": "markdown",
   "id": "4c861f01",
   "metadata": {},
   "source": [
    "# MedSync Baseline Modelling for all products"
   ]
  },
  {
   "cell_type": "code",
   "execution_count": 35,
   "id": "75c850dd",
   "metadata": {},
   "outputs": [],
   "source": [
    "import sys\n",
    "import warnings\n",
    "import re\n",
    "\n",
    "warnings.simplefilter(action=\"ignore\", category=FutureWarning)\n",
    "warnings.simplefilter(action=\"ignore\", category=RuntimeWarning)\n",
    "\n",
    "import pandas as pd\n",
    "import numpy as np\n",
    "import matplotlib.pyplot as plt\n",
    "import seaborn as sns\n",
    "\n",
    "from sklearn.model_selection import GroupKFold\n",
    "from sklearn.metrics import (\n",
    "    mean_absolute_percentage_error,\n",
    "    mean_squared_error,\n",
    "    d2_tweedie_score,\n",
    ")\n",
    "from xgboost import XGBRegressor\n",
    "from catboost import CatBoostRegressor\n",
    "from lightgbm import LGBMRegressor\n",
    "from sklearn.ensemble import RandomForestRegressor\n",
    "\n",
    "DATA_PATH = \"../data\""
   ]
  },
  {
   "cell_type": "code",
   "execution_count": 36,
   "id": "4f562637",
   "metadata": {},
   "outputs": [],
   "source": [
    "# Load excel file\n",
    "df = pd.read_excel(DATA_PATH + \"/consumo_material_clean.xlsx\")"
   ]
  },
  {
   "cell_type": "markdown",
   "id": "ef1f1b64",
   "metadata": {},
   "source": [
    "# Preprocessing"
   ]
  },
  {
   "cell_type": "code",
   "execution_count": 37,
   "id": "fe3bb949",
   "metadata": {},
   "outputs": [],
   "source": [
    "# Separate code into two columns\n",
    "new_columns = df[\"P_code\"].str.extract(r\"([a-zA-Z]+)([0-9]+)\", expand=False)\n",
    "df[\"P_code_CLASS\"] = new_columns[0]\n",
    "df[\"P_code_NUM\"] = new_columns[1]\n",
    "df.drop(columns=[\"P_code\"], inplace=True)"
   ]
  },
  {
   "cell_type": "code",
   "execution_count": 38,
   "id": "bf310d3d",
   "metadata": {},
   "outputs": [
    {
     "name": "stderr",
     "output_type": "stream",
     "text": [
      "C:\\Users\\AMAR2\\AppData\\Local\\Temp\\ipykernel_26328\\3581088518.py:2: UserWarning: Could not infer format, so each element will be parsed individually, falling back to `dateutil`. To ensure parsing is consistent and as-expected, please specify a format.\n",
      "  df[\"P_date\"] = pd.to_datetime(df[\"P_date\"], dayfirst=True)\n"
     ]
    }
   ],
   "source": [
    "# P_date to datetime in day/month/year format\n",
    "df[\"P_date\"] = pd.to_datetime(df[\"P_date\"], dayfirst=True)\n",
    "df.sort_values(by=[\"P_date\"], inplace=True)\n",
    "df.reset_index(drop=True, inplace=True)"
   ]
  },
  {
   "cell_type": "code",
   "execution_count": 39,
   "id": "9cd9492e",
   "metadata": {},
   "outputs": [],
   "source": [
    "# assert all rows in H_code follow number-number-number format\n",
    "def fix_origen_typos(origen_string):\n",
    "    numbers = re.findall(r\"[0-9]+\", origen_string)\n",
    "    return \"-\".join(numbers)\n",
    "\n",
    "\n",
    "df[\"H_code\"] = df[\"H_code\"].apply(fix_origen_typos)"
   ]
  },
  {
   "cell_type": "code",
   "execution_count": 40,
   "id": "52d73a37",
   "metadata": {},
   "outputs": [],
   "source": [
    "# separate H_code in three columns by '-'\n",
    "origin_separated_columns = df[\"H_code\"].str.split(\"-\", expand=True)\n",
    "df[\"PURCHASING_REGION\"] = origin_separated_columns[0]\n",
    "df[\"PURCHASING_HOSPITAL\"] = origin_separated_columns[1]\n",
    "df[\"PURCHASING_DEPARTMENT\"] = origin_separated_columns[2]\n",
    "df.drop(columns=[\"H_code\"], inplace=True)"
   ]
  },
  {
   "cell_type": "code",
   "execution_count": 41,
   "id": "f404a653",
   "metadata": {},
   "outputs": [],
   "source": [
    "# drop duplicates\n",
    "df.drop_duplicates(inplace=True)"
   ]
  },
  {
   "cell_type": "code",
   "execution_count": 42,
   "id": "5ee93e34",
   "metadata": {},
   "outputs": [],
   "source": [
    "# basic date features\n",
    "def generate_date_features(df):\n",
    "    df[\"YEAR\"] = df[\"P_date\"].dt.year\n",
    "    df[\"MONTH\"] = np.sin(2 * np.pi * df[\"P_date\"].dt.month / 12)\n",
    "    df[\"DAYOFMONTH\"] = np.sin(2 * np.pi * df[\"P_date\"].dt.day / 31)\n",
    "    df[\"DAYOFYEAR\"] = np.sin(2 * np.pi * df[\"P_date\"].dt.dayofyear / 365)\n",
    "    return df"
   ]
  },
  {
   "cell_type": "code",
   "execution_count": 43,
   "id": "ddf92a1f",
   "metadata": {},
   "outputs": [],
   "source": [
    "def add_timeseries_features(df):\n",
    "    df[\"ROLLING_MEAN_3M\"] = df[\"N_product_purchased\"].rolling(90).mean()\n",
    "    df[\"WEIGHTED_MEAN_3M\"] = (\n",
    "        df[\"N_product_purchased\"]\n",
    "        .rolling(90)\n",
    "        .apply(lambda x: np.average(x, weights=range(1, len(x) + 1)))\n",
    "    )\n",
    "    df[\"EWMA_3M\"] = df[\"N_product_purchased\"].ewm(span=90).mean()\n",
    "    df[\"ROLLING_MEAN_1Y\"] = df[\"N_product_purchased\"].rolling(365).mean()\n",
    "    df[\"WEIGHTED_MEAN_1Y\"] = (\n",
    "        df[\"N_product_purchased\"]\n",
    "        .rolling(365)\n",
    "        .apply(lambda x: np.average(x, weights=range(1, len(x) + 1)))\n",
    "    )\n",
    "    df[\"EWMA_1Y\"] = df[\"N_product_purchased\"].ewm(span=365).mean()\n",
    "    # average N_product_purchased over year\n",
    "    df[\"AVG_1Y\"] = df.groupby([\"YEAR\"])[\"N_product_purchased\"].transform(\"mean\")\n",
    "    df[\"AVG_1Y\"] = df[\"AVG_1Y\"].fillna(df[\"AVG_1Y\"].mean())\n",
    "    return df"
   ]
  },
  {
   "cell_type": "code",
   "execution_count": 44,
   "id": "d52c953b",
   "metadata": {},
   "outputs": [],
   "source": [
    "# get pairings of product and hospital and create a dict \"product number\": list of hospitals\n",
    "pairings = df.groupby([\"P_code_NUM\", \"PURCHASING_HOSPITAL\"]).size().reset_index()\n",
    "pairings = pairings.groupby([\"PURCHASING_HOSPITAL\"])[\"P_code_NUM\"].apply(list)\n",
    "pairings = pairings.to_dict()"
   ]
  },
  {
   "cell_type": "code",
   "execution_count": 45,
   "id": "cfeb2527",
   "metadata": {},
   "outputs": [],
   "source": [
    "def generate_train_test_df(full_df):\n",
    "    # Get train and test sets\n",
    "    train = full_df[full_df[\"YEAR\"] < 2023]\n",
    "    X_train = train.drop(columns=[\"N_product_purchased\", \"P_date\"])\n",
    "    y_train = train[\"N_product_purchased\"]\n",
    "\n",
    "    test = full_df[full_df[\"YEAR\"] == 2023]\n",
    "    X_test = test.drop(columns=[\"N_product_purchased\", \"P_date\"])\n",
    "    y_test = test[\"N_product_purchased\"]\n",
    "\n",
    "    return train, X_train, y_train, test, X_test, y_test"
   ]
  },
  {
   "cell_type": "code",
   "execution_count": 46,
   "id": "b453879c",
   "metadata": {},
   "outputs": [],
   "source": [
    "def smape_score(A, F):\n",
    "    return 100 / len(A) * np.sum(2 * np.abs(F - A) / (np.abs(A) + np.abs(F)))"
   ]
  },
  {
   "cell_type": "code",
   "execution_count": 47,
   "id": "b3a28054",
   "metadata": {},
   "outputs": [],
   "source": [
    "def train_model_eval(X_train, y_train, X_test, y_test):\n",
    "    model = XGBRegressor(random_state=42)\n",
    "    model.fit(X_train, y_train)\n",
    "\n",
    "    y_test_pred = model.predict(X_test)\n",
    "    y_test_pred = y_test_pred\n",
    "\n",
    "    test_loss = mean_squared_error(y_test, y_test_pred, squared=False)\n",
    "    mape_error = mean_absolute_percentage_error(y_test, y_test_pred)\n",
    "    tweedie = d2_tweedie_score(y_test, y_test_pred)\n",
    "    smape_err = smape_score(y_test, y_test_pred)\n",
    "\n",
    "    return test_loss, mape_error, smape_err, tweedie"
   ]
  },
  {
   "cell_type": "code",
   "execution_count": 48,
   "id": "892dee62",
   "metadata": {},
   "outputs": [],
   "source": [
    "def plot_model_predictions(full_df, product, hospital, plot_train=False):\n",
    "    columns = [\"P_date\", \"N_product_purchased\"]\n",
    "    partial_df = full_df.loc[\n",
    "        (full_df[\"PURCHASING_HOSPITAL\"] == hospital)\n",
    "        & (full_df[\"P_code_NUM\"] == product)\n",
    "    ][columns]\n",
    "    partial_df = generate_date_features(partial_df)\n",
    "    partial_df = add_timeseries_features(partial_df)\n",
    "    train, X_train, y_train, test, X_test, y_test = generate_train_test_df(partial_df)\n",
    "\n",
    "    model = XGBRegressor(random_state=42)\n",
    "    model.fit(X_train, y_train)\n",
    "\n",
    "    X_train[\"PREDICTION\"] = model.predict(X_train)\n",
    "    X_train[\"REAL\"] = y_train\n",
    "    X_train[\"P_date\"] = train[\"P_date\"]\n",
    "\n",
    "    X_test[\"PREDICTION\"] = model.predict(X_test)\n",
    "    X_test[\"REAL\"] = y_test\n",
    "    X_test[\"P_date\"] = test[\"P_date\"]\n",
    "\n",
    "    plt.figure(figsize=(30, 10))\n",
    "    if plot_train:\n",
    "        sns.lineplot(\n",
    "            x=\"P_date\",\n",
    "            y=\"PREDICTION\",\n",
    "            data=X_train,\n",
    "            marker=\"o\",\n",
    "            label=\"train preds\",\n",
    "        )\n",
    "        sns.lineplot(\n",
    "            x=\"P_date\", y=\"REAL\", data=X_train, marker=\"o\", label=\"train real\"\n",
    "        )\n",
    "\n",
    "    sns.lineplot(\n",
    "        x=\"P_date\", y=\"PREDICTION\", data=X_test, marker=\"o\", label=\"test preds\"\n",
    "    )\n",
    "    sns.lineplot(x=\"P_date\", y=\"REAL\", data=X_test, marker=\"o\", label=\"test real\")\n",
    "\n",
    "    plt.legend()\n",
    "    plt.show()"
   ]
  },
  {
   "cell_type": "code",
   "execution_count": 49,
   "id": "758e0c13",
   "metadata": {},
   "outputs": [
    {
     "name": "stdout",
     "output_type": "stream",
     "text": [
      "CPU times: total: 1min 7s\n",
      "Wall time: 11.9 s\n"
     ]
    }
   ],
   "source": [
    "%%time\n",
    "\n",
    "# iterate over each hospital and list of products\n",
    "columns = [\"P_date\", \"N_product_purchased\"]\n",
    "\n",
    "product_hospital_losses = pd.DataFrame(columns=[\"PRODUCT\", \"HOSPITAL\", \"Tweedie\", \"MSE\", \"SMAPE\"])\n",
    "for hospital, product_list in pairings.items():\n",
    "    for product in product_list:\n",
    "        partial_df = df.loc[\n",
    "            (df[\"PURCHASING_HOSPITAL\"] == hospital) & (df[\"P_code_NUM\"] == product)\n",
    "        ][columns]\n",
    "        partial_df = generate_date_features(partial_df)\n",
    "        partial_df = add_timeseries_features(partial_df)\n",
    "\n",
    "        is_2023_in_df = 2023 in partial_df[\"YEAR\"].unique()\n",
    "        is_only_1_year = partial_df[\"YEAR\"].nunique() == 1\n",
    "        has_few_samples = partial_df[partial_df[\"YEAR\"] == 2023].shape[0] < 5\n",
    "\n",
    "        if not is_2023_in_df or is_only_1_year or has_few_samples:\n",
    "            continue\n",
    "\n",
    "        train, X_train, y_train, test, X_test, y_test = generate_train_test_df(\n",
    "            partial_df\n",
    "        )\n",
    "        test_loss, mape_error, smape, tweedie = train_model_eval(X_train, y_train, X_test, y_test)\n",
    "\n",
    "        product_hospital_losses = pd.concat(\n",
    "            [\n",
    "                product_hospital_losses,\n",
    "                pd.DataFrame(\n",
    "                    [[product, hospital, tweedie, test_loss, smape]],\n",
    "                    columns=[\"PRODUCT\", \"HOSPITAL\", \"Tweedie\", \"MSE\", \"SMAPE\"],\n",
    "                ),\n",
    "            ]\n",
    "        )"
   ]
  },
  {
   "cell_type": "code",
   "execution_count": 50,
   "id": "1bcd1551",
   "metadata": {},
   "outputs": [
    {
     "data": {
      "text/html": [
       "<div>\n",
       "<style scoped>\n",
       "    .dataframe tbody tr th:only-of-type {\n",
       "        vertical-align: middle;\n",
       "    }\n",
       "\n",
       "    .dataframe tbody tr th {\n",
       "        vertical-align: top;\n",
       "    }\n",
       "\n",
       "    .dataframe thead th {\n",
       "        text-align: right;\n",
       "    }\n",
       "</style>\n",
       "<table border=\"1\" class=\"dataframe\">\n",
       "  <thead>\n",
       "    <tr style=\"text-align: right;\">\n",
       "      <th></th>\n",
       "      <th>PRODUCT</th>\n",
       "      <th>HOSPITAL</th>\n",
       "      <th>Tweedie</th>\n",
       "      <th>MSE</th>\n",
       "      <th>SMAPE</th>\n",
       "    </tr>\n",
       "  </thead>\n",
       "  <tbody>\n",
       "    <tr>\n",
       "      <th>0</th>\n",
       "      <td>66071</td>\n",
       "      <td>7</td>\n",
       "      <td>-0.666667</td>\n",
       "      <td>2162.997920</td>\n",
       "      <td>72.380952</td>\n",
       "    </tr>\n",
       "    <tr>\n",
       "      <th>0</th>\n",
       "      <td>66071</td>\n",
       "      <td>13</td>\n",
       "      <td>-0.497128</td>\n",
       "      <td>1203.694808</td>\n",
       "      <td>56.022361</td>\n",
       "    </tr>\n",
       "    <tr>\n",
       "      <th>0</th>\n",
       "      <td>64911</td>\n",
       "      <td>7</td>\n",
       "      <td>-0.250000</td>\n",
       "      <td>402.492236</td>\n",
       "      <td>24.000000</td>\n",
       "    </tr>\n",
       "    <tr>\n",
       "      <th>0</th>\n",
       "      <td>64764</td>\n",
       "      <td>18</td>\n",
       "      <td>-0.593710</td>\n",
       "      <td>395.813117</td>\n",
       "      <td>10.232688</td>\n",
       "    </tr>\n",
       "    <tr>\n",
       "      <th>0</th>\n",
       "      <td>64751</td>\n",
       "      <td>0</td>\n",
       "      <td>-0.012588</td>\n",
       "      <td>332.793997</td>\n",
       "      <td>11.643866</td>\n",
       "    </tr>\n",
       "    <tr>\n",
       "      <th>0</th>\n",
       "      <td>64663</td>\n",
       "      <td>13</td>\n",
       "      <td>-21.843049</td>\n",
       "      <td>286.766413</td>\n",
       "      <td>43.321986</td>\n",
       "    </tr>\n",
       "    <tr>\n",
       "      <th>0</th>\n",
       "      <td>64764</td>\n",
       "      <td>10</td>\n",
       "      <td>-1.617280</td>\n",
       "      <td>286.167404</td>\n",
       "      <td>31.231760</td>\n",
       "    </tr>\n",
       "    <tr>\n",
       "      <th>0</th>\n",
       "      <td>64765</td>\n",
       "      <td>0</td>\n",
       "      <td>-0.624390</td>\n",
       "      <td>285.491504</td>\n",
       "      <td>24.454642</td>\n",
       "    </tr>\n",
       "    <tr>\n",
       "      <th>0</th>\n",
       "      <td>64663</td>\n",
       "      <td>10</td>\n",
       "      <td>-55.554562</td>\n",
       "      <td>273.900270</td>\n",
       "      <td>43.105927</td>\n",
       "    </tr>\n",
       "    <tr>\n",
       "      <th>0</th>\n",
       "      <td>64765</td>\n",
       "      <td>18</td>\n",
       "      <td>0.105058</td>\n",
       "      <td>211.907019</td>\n",
       "      <td>8.016129</td>\n",
       "    </tr>\n",
       "    <tr>\n",
       "      <th>0</th>\n",
       "      <td>64764</td>\n",
       "      <td>0</td>\n",
       "      <td>0.382456</td>\n",
       "      <td>201.175018</td>\n",
       "      <td>17.841818</td>\n",
       "    </tr>\n",
       "    <tr>\n",
       "      <th>0</th>\n",
       "      <td>65056</td>\n",
       "      <td>10</td>\n",
       "      <td>-33.296127</td>\n",
       "      <td>181.166757</td>\n",
       "      <td>48.290252</td>\n",
       "    </tr>\n",
       "    <tr>\n",
       "      <th>0</th>\n",
       "      <td>65056</td>\n",
       "      <td>13</td>\n",
       "      <td>-3.450923</td>\n",
       "      <td>169.621581</td>\n",
       "      <td>27.267366</td>\n",
       "    </tr>\n",
       "    <tr>\n",
       "      <th>0</th>\n",
       "      <td>65056</td>\n",
       "      <td>0</td>\n",
       "      <td>-0.964307</td>\n",
       "      <td>169.180152</td>\n",
       "      <td>11.933952</td>\n",
       "    </tr>\n",
       "    <tr>\n",
       "      <th>0</th>\n",
       "      <td>85758</td>\n",
       "      <td>10</td>\n",
       "      <td>-0.551271</td>\n",
       "      <td>164.346296</td>\n",
       "      <td>27.381771</td>\n",
       "    </tr>\n",
       "    <tr>\n",
       "      <th>0</th>\n",
       "      <td>64940</td>\n",
       "      <td>7</td>\n",
       "      <td>-inf</td>\n",
       "      <td>161.657582</td>\n",
       "      <td>16.666609</td>\n",
       "    </tr>\n",
       "    <tr>\n",
       "      <th>0</th>\n",
       "      <td>64751</td>\n",
       "      <td>18</td>\n",
       "      <td>-1.473557</td>\n",
       "      <td>160.390136</td>\n",
       "      <td>7.918010</td>\n",
       "    </tr>\n",
       "    <tr>\n",
       "      <th>0</th>\n",
       "      <td>64932</td>\n",
       "      <td>7</td>\n",
       "      <td>-1.499998</td>\n",
       "      <td>154.919283</td>\n",
       "      <td>29.333320</td>\n",
       "    </tr>\n",
       "    <tr>\n",
       "      <th>0</th>\n",
       "      <td>64488</td>\n",
       "      <td>10</td>\n",
       "      <td>-0.113870</td>\n",
       "      <td>154.752108</td>\n",
       "      <td>29.979788</td>\n",
       "    </tr>\n",
       "    <tr>\n",
       "      <th>0</th>\n",
       "      <td>73753</td>\n",
       "      <td>10</td>\n",
       "      <td>-121.833473</td>\n",
       "      <td>148.923692</td>\n",
       "      <td>25.079016</td>\n",
       "    </tr>\n",
       "  </tbody>\n",
       "</table>\n",
       "</div>"
      ],
      "text/plain": [
       "  PRODUCT HOSPITAL     Tweedie          MSE      SMAPE\n",
       "0   66071        7   -0.666667  2162.997920  72.380952\n",
       "0   66071       13   -0.497128  1203.694808  56.022361\n",
       "0   64911        7   -0.250000   402.492236  24.000000\n",
       "0   64764       18   -0.593710   395.813117  10.232688\n",
       "0   64751        0   -0.012588   332.793997  11.643866\n",
       "0   64663       13  -21.843049   286.766413  43.321986\n",
       "0   64764       10   -1.617280   286.167404  31.231760\n",
       "0   64765        0   -0.624390   285.491504  24.454642\n",
       "0   64663       10  -55.554562   273.900270  43.105927\n",
       "0   64765       18    0.105058   211.907019   8.016129\n",
       "0   64764        0    0.382456   201.175018  17.841818\n",
       "0   65056       10  -33.296127   181.166757  48.290252\n",
       "0   65056       13   -3.450923   169.621581  27.267366\n",
       "0   65056        0   -0.964307   169.180152  11.933952\n",
       "0   85758       10   -0.551271   164.346296  27.381771\n",
       "0   64940        7        -inf   161.657582  16.666609\n",
       "0   64751       18   -1.473557   160.390136   7.918010\n",
       "0   64932        7   -1.499998   154.919283  29.333320\n",
       "0   64488       10   -0.113870   154.752108  29.979788\n",
       "0   73753       10 -121.833473   148.923692  25.079016"
      ]
     },
     "execution_count": 50,
     "metadata": {},
     "output_type": "execute_result"
    }
   ],
   "source": [
    "product_hospital_losses.sort_values(by=[\"MSE\"], ascending=False).head(20)"
   ]
  },
  {
   "cell_type": "code",
   "execution_count": 51,
   "id": "3a8a56fa",
   "metadata": {},
   "outputs": [
    {
     "data": {
      "text/plain": [
       "PRODUCT\n",
       "66071    878.103531\n",
       "64764    294.385180\n",
       "64911    249.398010\n",
       "64765    248.699262\n",
       "64751    246.592066\n",
       "64663    161.244877\n",
       "73753    148.923692\n",
       "65056    136.286357\n",
       "64940     99.461768\n",
       "64488     97.927799\n",
       "85758     84.675259\n",
       "64932     75.282179\n",
       "64983     64.848522\n",
       "65894     61.383407\n",
       "65509     60.735506\n",
       "65486     58.685913\n",
       "85769     58.262541\n",
       "64544     33.207605\n",
       "70130     31.863797\n",
       "41691     29.812472\n",
       "Name: MSE, dtype: float64"
      ]
     },
     "execution_count": 51,
     "metadata": {},
     "output_type": "execute_result"
    }
   ],
   "source": [
    "product_hospital_losses.groupby([\"PRODUCT\"])[\"MSE\"].mean().sort_values(\n",
    "    ascending=False\n",
    ").head(20)"
   ]
  },
  {
   "cell_type": "code",
   "execution_count": 52,
   "id": "0b74b37e",
   "metadata": {},
   "outputs": [
    {
     "data": {
      "text/plain": [
       "-5.742496289883125"
      ]
     },
     "execution_count": 52,
     "metadata": {},
     "output_type": "execute_result"
    }
   ],
   "source": [
    "product_hospital_losses[product_hospital_losses[\"Tweedie\"] != -np.inf][\"Tweedie\"].mean()"
   ]
  },
  {
   "cell_type": "code",
   "execution_count": 53,
   "id": "4128fb43",
   "metadata": {},
   "outputs": [
    {
     "data": {
      "text/plain": [
       "92.90490707062995"
      ]
     },
     "execution_count": 53,
     "metadata": {},
     "output_type": "execute_result"
    }
   ],
   "source": [
    "product_hospital_losses[\"MSE\"].mean()"
   ]
  },
  {
   "cell_type": "code",
   "execution_count": 67,
   "id": "63973865",
   "metadata": {},
   "outputs": [
    {
     "data": {
      "image/png": "[encoded data removed]",
      "text/plain": [
       "<Figure size 3000x1000 with 1 Axes>"
      ]
     },
     "metadata": {},
     "output_type": "display_data"
    }
   ],
   "source": [
    "plot_model_predictions(full_df=df, product=\"65509\", hospital=\"7\", plot_train=True)"
   ]
  },
  {
   "cell_type": "code",
   "execution_count": 56,
   "id": "86d0e2d9",
   "metadata": {},
   "outputs": [],
   "source": [
    "import pickle\n",
    "filename=\"../savmodel.sav\"\n",
    "pickle.dump(plot_model_predictions, open(filename, 'wb'))"
   ]
  },
  {
   "cell_type": "code",
   "execution_count": 65,
   "id": "0dd00f8e",
   "metadata": {},
   "outputs": [],
   "source": [
    "load_model=pickle.load(open(filename, 'rb'))"
   ]
  },
  {
   "cell_type": "code",
   "execution_count": null,
   "id": "99de1d30",
   "metadata": {},
   "outputs": [],
   "source": []
  },
  {
   "cell_type": "code",
   "execution_count": null,
   "id": "3d42a24b",
   "metadata": {},
   "outputs": [],
   "source": []
  }
 ],
 "metadata": {
  "kernelspec": {
   "display_name": "Python 3 (ipykernel)",
   "language": "python",
   "name": "python3"
  },
  "language_info": {
   "codemirror_mode": {
    "name": "ipython",
    "version": 3
   },
   "file_extension": ".py",
   "mimetype": "text/x-python",
   "name": "python",
   "nbconvert_exporter": "python",
   "pygments_lexer": "ipython3",
   "version": "3.11.5"
  }
 },
 "nbformat": 4,
 "nbformat_minor": 5
}
