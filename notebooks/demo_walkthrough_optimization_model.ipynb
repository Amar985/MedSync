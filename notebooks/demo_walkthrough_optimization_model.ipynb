{
 "cells": [
  {
   "cell_type": "code",
   "execution_count": 33,
   "id": "ab87a404",
   "metadata": {},
   "outputs": [],
   "source": [
    "import sys\n",
    "import matplotlib.pyplot as plt\n",
    "sys.path.append('../')\n",
    "from model.optimization_model import OptimizationModel\n",
    "import pyomo.environ as pyo\n",
    "import pandas as pd"
   ]
  },
  {
   "cell_type": "code",
   "execution_count": 34,
   "id": "29368aae",
   "metadata": {},
   "outputs": [],
   "source": [
    "df = pd.read_csv('../data/estimated_dataset_2023.csv')\n",
    "\n",
    "def filter_df_by_product(df, product_code):\n",
    "    return df[df['P_code_NUM'] == product_code].reset_index(drop=True)\n",
    "\n",
    "P_code_PROD = 70130\n",
    "data = filter_df_by_product(df, P_code_PROD)"
   ]
  },
  {
   "cell_type": "code",
   "execution_count": 35,
   "id": "098aacc7",
   "metadata": {},
   "outputs": [
    {
     "ename": "AssertionError",
     "evalue": "Please specify the path to the solver executable",
     "output_type": "error",
     "traceback": [
      "\u001b[1;31m---------------------------------------------------------------------------\u001b[0m",
      "\u001b[1;31mAssertionError\u001b[0m                            Traceback (most recent call last)",
      "Cell \u001b[1;32mIn[35], line 4\u001b[0m\n\u001b[0;32m      1\u001b[0m model \u001b[38;5;241m=\u001b[39m OptimizationModel(data, \u001b[38;5;241m1.2\u001b[39m, \u001b[38;5;241m4\u001b[39m, \u001b[38;5;241m10000\u001b[39m, \u001b[38;5;241m0.1\u001b[39m)\n\u001b[0;32m      3\u001b[0m solver_path \u001b[38;5;241m=\u001b[39m \u001b[38;5;28;01mNone\u001b[39;00m \u001b[38;5;66;03m# place here the path to the solver executable\u001b[39;00m\n\u001b[1;32m----> 4\u001b[0m \u001b[38;5;28;01massert\u001b[39;00m solver_path \u001b[38;5;129;01mis\u001b[39;00m \u001b[38;5;129;01mnot\u001b[39;00m \u001b[38;5;28;01mNone\u001b[39;00m, \u001b[38;5;124m'\u001b[39m\u001b[38;5;124mPlease specify the path to the solver executable\u001b[39m\u001b[38;5;124m'\u001b[39m\n\u001b[0;32m      5\u001b[0m best_model \u001b[38;5;241m=\u001b[39m model\u001b[38;5;241m.\u001b[39msolve(solver_path)\n\u001b[0;32m      7\u001b[0m \u001b[38;5;28;01mif\u001b[39;00m best_model \u001b[38;5;129;01mis\u001b[39;00m \u001b[38;5;28;01mNone\u001b[39;00m:\n",
      "\u001b[1;31mAssertionError\u001b[0m: Please specify the path to the solver executable"
     ]
    }
   ],
   "source": [
    "model = OptimizationModel(data, 1.2, 4, 10000, 0.1)\n",
    "\n",
    "solver_path = None # place here the path to the solver executable\n",
    "assert solver_path is not None, 'Please specify the path to the solver executable'\n",
    "best_model = model.solve(solver_path)\n",
    "\n",
    "if best_model is None:\n",
    "    print('No feasible solution found')\n",
    "else:\n",
    "    optimal_values = [pyo.value(best_model.p[i]) for i in best_model.p]\n",
    "    print(f'Optimal values: {optimal_values}')\n",
    "    print(f'Optimal cost: {pyo.value(best_model.objective())}')"
   ]
  },
  {
   "cell_type": "code",
   "execution_count": null,
   "id": "5eaefc56",
   "metadata": {},
   "outputs": [],
   "source": []
  }
 ],
 "metadata": {
  "kernelspec": {
   "display_name": "Python 3 (ipykernel)",
   "language": "python",
   "name": "python3"
  },
  "language_info": {
   "codemirror_mode": {
    "name": "ipython",
    "version": 3
   },
   "file_extension": ".py",
   "mimetype": "text/x-python",
   "name": "python",
   "nbconvert_exporter": "python",
   "pygments_lexer": "ipython3",
   "version": "3.11.5"
  }
 },
 "nbformat": 4,
 "nbformat_minor": 5
}
